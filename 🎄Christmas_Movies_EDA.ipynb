{
 "cells": [
  {
   "cell_type": "markdown",
   "id": "9c81aabc",
   "metadata": {},
   "source": [
    "# Importing Libraries"
   ]
  },
  {
   "cell_type": "code",
   "execution_count": 1,
   "id": "2e758c51",
   "metadata": {},
   "outputs": [],
   "source": [
    "import numpy as np \n",
    "import pandas as pd\n",
    "import seaborn as sns\n",
    "import matplotlib.pyplot as plt\n"
   ]
  },
  {
   "cell_type": "markdown",
   "id": "8fbca2f9",
   "metadata": {},
   "source": [
    "# Importing Dataset"
   ]
  },
  {
   "cell_type": "code",
   "execution_count": 2,
   "id": "8ac208c9",
   "metadata": {
    "scrolled": false
   },
   "outputs": [
    {
     "data": {
      "text/html": [
       "<div>\n",
       "<style scoped>\n",
       "    .dataframe tbody tr th:only-of-type {\n",
       "        vertical-align: middle;\n",
       "    }\n",
       "\n",
       "    .dataframe tbody tr th {\n",
       "        vertical-align: top;\n",
       "    }\n",
       "\n",
       "    .dataframe thead th {\n",
       "        text-align: right;\n",
       "    }\n",
       "</style>\n",
       "<table border=\"1\" class=\"dataframe\">\n",
       "  <thead>\n",
       "    <tr style=\"text-align: right;\">\n",
       "      <th></th>\n",
       "      <th>title</th>\n",
       "      <th>rating</th>\n",
       "      <th>runtime</th>\n",
       "      <th>imdb_rating</th>\n",
       "      <th>meta_score</th>\n",
       "      <th>genre</th>\n",
       "      <th>release_year</th>\n",
       "      <th>description</th>\n",
       "      <th>director</th>\n",
       "      <th>stars</th>\n",
       "      <th>votes</th>\n",
       "      <th>gross</th>\n",
       "      <th>img_src</th>\n",
       "      <th>type</th>\n",
       "    </tr>\n",
       "  </thead>\n",
       "  <tbody>\n",
       "    <tr>\n",
       "      <th>0</th>\n",
       "      <td>Love Actually</td>\n",
       "      <td>R</td>\n",
       "      <td>135.0</td>\n",
       "      <td>7.6</td>\n",
       "      <td>55.0</td>\n",
       "      <td>Comedy, Drama, Romance</td>\n",
       "      <td>2003.0</td>\n",
       "      <td>Follows the lives of eight very different coup...</td>\n",
       "      <td>Richard Curtis</td>\n",
       "      <td>Hugh Grant, Martine McCutcheon, Liam Neeson, L...</td>\n",
       "      <td>491,920</td>\n",
       "      <td>$59.70M</td>\n",
       "      <td>https://m.media-amazon.com/images/M/MV5BMTY4Nj...</td>\n",
       "      <td>Movie</td>\n",
       "    </tr>\n",
       "    <tr>\n",
       "      <th>1</th>\n",
       "      <td>National Lampoon's Christmas Vacation</td>\n",
       "      <td>PG-13</td>\n",
       "      <td>97.0</td>\n",
       "      <td>7.5</td>\n",
       "      <td>49.0</td>\n",
       "      <td>Comedy</td>\n",
       "      <td>1989.0</td>\n",
       "      <td>The Griswold family's plans for a big family C...</td>\n",
       "      <td>Jeremiah S. Chechik</td>\n",
       "      <td>Chevy Chase, Beverly D'Angelo, Juliette Lewis,...</td>\n",
       "      <td>198,428</td>\n",
       "      <td>$71.32M</td>\n",
       "      <td>https://m.media-amazon.com/images/M/MV5BMGZkMW...</td>\n",
       "      <td>Movie</td>\n",
       "    </tr>\n",
       "    <tr>\n",
       "      <th>2</th>\n",
       "      <td>Spirited</td>\n",
       "      <td>PG-13</td>\n",
       "      <td>127.0</td>\n",
       "      <td>6.6</td>\n",
       "      <td>55.0</td>\n",
       "      <td>Comedy, Family, Musical</td>\n",
       "      <td>2022.0</td>\n",
       "      <td>A musical version of Charles Dickens's story o...</td>\n",
       "      <td>Sean Anders</td>\n",
       "      <td>Will Ferrell, Ryan Reynolds, Octavia Spencer, ...</td>\n",
       "      <td>34,304</td>\n",
       "      <td>NaN</td>\n",
       "      <td>https://m.media-amazon.com/images/M/MV5BY2RlZG...</td>\n",
       "      <td>Movie</td>\n",
       "    </tr>\n",
       "    <tr>\n",
       "      <th>3</th>\n",
       "      <td>Home Alone</td>\n",
       "      <td>PG</td>\n",
       "      <td>103.0</td>\n",
       "      <td>7.7</td>\n",
       "      <td>63.0</td>\n",
       "      <td>Comedy, Family</td>\n",
       "      <td>1990.0</td>\n",
       "      <td>An eight-year-old troublemaker, mistakenly lef...</td>\n",
       "      <td>Chris Columbus</td>\n",
       "      <td>Macaulay Culkin, Joe Pesci, Daniel Stern, John...</td>\n",
       "      <td>584,210</td>\n",
       "      <td>$285.76M</td>\n",
       "      <td>https://m.media-amazon.com/images/M/MV5BMzFkM2...</td>\n",
       "      <td>Movie</td>\n",
       "    </tr>\n",
       "    <tr>\n",
       "      <th>4</th>\n",
       "      <td>How the Grinch Stole Christmas</td>\n",
       "      <td>PG</td>\n",
       "      <td>104.0</td>\n",
       "      <td>6.3</td>\n",
       "      <td>46.0</td>\n",
       "      <td>Comedy, Family, Fantasy</td>\n",
       "      <td>2000.0</td>\n",
       "      <td>On the outskirts of Whoville lives a green, re...</td>\n",
       "      <td>Ron Howard</td>\n",
       "      <td>Jim Carrey, Taylor Momsen, Kelley, Jeffrey Tam...</td>\n",
       "      <td>259,796</td>\n",
       "      <td>$260.04M</td>\n",
       "      <td>https://m.media-amazon.com/images/M/MV5BNWNiNT...</td>\n",
       "      <td>Movie</td>\n",
       "    </tr>\n",
       "  </tbody>\n",
       "</table>\n",
       "</div>"
      ],
      "text/plain": [
       "                                   title rating  runtime  imdb_rating  \\\n",
       "0                          Love Actually      R    135.0          7.6   \n",
       "1  National Lampoon's Christmas Vacation  PG-13     97.0          7.5   \n",
       "2                               Spirited  PG-13    127.0          6.6   \n",
       "3                             Home Alone     PG    103.0          7.7   \n",
       "4         How the Grinch Stole Christmas     PG    104.0          6.3   \n",
       "\n",
       "   meta_score                    genre  release_year  \\\n",
       "0        55.0   Comedy, Drama, Romance        2003.0   \n",
       "1        49.0                   Comedy        1989.0   \n",
       "2        55.0  Comedy, Family, Musical        2022.0   \n",
       "3        63.0           Comedy, Family        1990.0   \n",
       "4        46.0  Comedy, Family, Fantasy        2000.0   \n",
       "\n",
       "                                         description             director  \\\n",
       "0  Follows the lives of eight very different coup...       Richard Curtis   \n",
       "1  The Griswold family's plans for a big family C...  Jeremiah S. Chechik   \n",
       "2  A musical version of Charles Dickens's story o...          Sean Anders   \n",
       "3  An eight-year-old troublemaker, mistakenly lef...       Chris Columbus   \n",
       "4  On the outskirts of Whoville lives a green, re...           Ron Howard   \n",
       "\n",
       "                                               stars    votes     gross  \\\n",
       "0  Hugh Grant, Martine McCutcheon, Liam Neeson, L...  491,920   $59.70M   \n",
       "1  Chevy Chase, Beverly D'Angelo, Juliette Lewis,...  198,428   $71.32M   \n",
       "2  Will Ferrell, Ryan Reynolds, Octavia Spencer, ...   34,304       NaN   \n",
       "3  Macaulay Culkin, Joe Pesci, Daniel Stern, John...  584,210  $285.76M   \n",
       "4  Jim Carrey, Taylor Momsen, Kelley, Jeffrey Tam...  259,796  $260.04M   \n",
       "\n",
       "                                             img_src   type  \n",
       "0  https://m.media-amazon.com/images/M/MV5BMTY4Nj...  Movie  \n",
       "1  https://m.media-amazon.com/images/M/MV5BMGZkMW...  Movie  \n",
       "2  https://m.media-amazon.com/images/M/MV5BY2RlZG...  Movie  \n",
       "3  https://m.media-amazon.com/images/M/MV5BMzFkM2...  Movie  \n",
       "4  https://m.media-amazon.com/images/M/MV5BNWNiNT...  Movie  "
      ]
     },
     "execution_count": 2,
     "metadata": {},
     "output_type": "execute_result"
    }
   ],
   "source": [
    "df =  pd.read_csv(r\"C:\\Users\\Asus-pc\\selu shit\\Projects\\Christmas Movies\\christmas_movies.csv\")\n",
    "df.head(5)"
   ]
  },
  {
   "cell_type": "code",
   "execution_count": 3,
   "id": "fd33dcdc",
   "metadata": {},
   "outputs": [
    {
     "name": "stdout",
     "output_type": "stream",
     "text": [
      "No of Rows: 788\n",
      "No of Columns: 14\n"
     ]
    }
   ],
   "source": [
    "print(\"No of Rows:\" , df.shape[0])\n",
    "print(\"No of Columns:\"  , df.shape[1])"
   ]
  },
  {
   "cell_type": "code",
   "execution_count": 4,
   "id": "8945758d",
   "metadata": {},
   "outputs": [
    {
     "data": {
      "text/plain": [
       "0"
      ]
     },
     "execution_count": 4,
     "metadata": {},
     "output_type": "execute_result"
    }
   ],
   "source": [
    "#duplication in the data\n",
    "df.duplicated().sum()"
   ]
  },
  {
   "cell_type": "markdown",
   "id": "9c0d6417",
   "metadata": {},
   "source": [
    "#  😵Processing"
   ]
  },
  {
   "cell_type": "code",
   "execution_count": 5,
   "id": "6ebaa1db",
   "metadata": {
    "scrolled": false
   },
   "outputs": [
    {
     "data": {
      "text/plain": [
       "title            object\n",
       "rating           object\n",
       "runtime         float64\n",
       "imdb_rating     float64\n",
       "meta_score      float64\n",
       "genre            object\n",
       "release_year    float64\n",
       "description      object\n",
       "director         object\n",
       "stars            object\n",
       "votes            object\n",
       "gross            object\n",
       "img_src          object\n",
       "type             object\n",
       "dtype: object"
      ]
     },
     "execution_count": 5,
     "metadata": {},
     "output_type": "execute_result"
    }
   ],
   "source": [
    "#datatype of each columns\n",
    "df.dtypes\n"
   ]
  },
  {
   "cell_type": "markdown",
   "id": "bf4c4ed8",
   "metadata": {},
   "source": [
    "### Issue!\n",
    "Released year and votes should be of numeric datataype"
   ]
  },
  {
   "cell_type": "code",
   "execution_count": 6,
   "id": "f673da51",
   "metadata": {},
   "outputs": [],
   "source": [
    "df[\"release_year\"] =  df[\"release_year\"].astype(\"Int64\")\n"
   ]
  },
  {
   "cell_type": "code",
   "execution_count": 7,
   "id": "48e9d178",
   "metadata": {
    "scrolled": true
   },
   "outputs": [],
   "source": [
    "df[\"votes\"] =  df[\"votes\"].str.replace(\",\" , \"\")\n",
    "df[\"votes\"]  = df[\"votes\"].astype(\"float\")\n",
    "df[\"votes\"]  = df[\"votes\"].astype(\"Int64\")"
   ]
  },
  {
   "cell_type": "code",
   "execution_count": 22,
   "id": "e3e6ffbc",
   "metadata": {
    "scrolled": true
   },
   "outputs": [
    {
     "data": {
      "text/plain": [
       "array(['R', 'PG-13', 'PG', 'Not Rated', 'G', 'TV-G', 'TV-PG', nan,\n",
       "       'TV-MA', 'Passed', 'Approved', '6', 'AL', 'TV-14', '7+', 'TV-Y'],\n",
       "      dtype=object)"
      ]
     },
     "execution_count": 22,
     "metadata": {},
     "output_type": "execute_result"
    }
   ],
   "source": [
    "#types of ratings \n",
    "Ratings  =  df[\"rating\"].unique()\n",
    "Ratings"
   ]
  },
  {
   "cell_type": "markdown",
   "id": "550ea111",
   "metadata": {},
   "source": [
    "### <b>Issue!</b>\n",
    "</br>\n",
    "Why there are two types of rating namely \"No rated\" and \"Unrated\", they are technically the same thing?\n",
    "</br>\n",
    "let's explore it further"
   ]
  },
  {
   "cell_type": "code",
   "execution_count": null,
   "id": "cd8b3615",
   "metadata": {
    "scrolled": false
   },
   "outputs": [],
   "source": [
    "#types of movies \n",
    "for i in range(len(df)):\n",
    "    if df[\"rating\"].iloc[i] == \"Unrated\":\n",
    "        print(df.iloc[i])"
   ]
  },
  {
   "cell_type": "markdown",
   "id": "7c18acd0",
   "metadata": {},
   "source": [
    "Above 5 rows contain \"Unrated\" rating which can easily be converted into \"Not Rated\"\n",
    "</br>\n",
    "</br>\n",
    "I couldn't find the clear distinction or similarity  between ratings \"Approved\" , \"Passed\" so I'll leave them as they are."
   ]
  },
  {
   "cell_type": "code",
   "execution_count": null,
   "id": "5b11358a",
   "metadata": {
    "scrolled": false
   },
   "outputs": [],
   "source": [
    "for i in range(len(df)):\n",
    "    if df[\"rating\"].iloc[i] == \"Unrated\":\n",
    "        df[\"rating\"].iloc[i] = \"Not Rated\"\n",
    "\n",
    "#checking to see if that  worked \n",
    "df.rating.unique()"
   ]
  },
  {
   "cell_type": "code",
   "execution_count": null,
   "id": "fb252361",
   "metadata": {
    "scrolled": false
   },
   "outputs": [],
   "source": [
    "#Dealing with the gross column \n",
    "\n",
    "#1. creating an extra column \"Earnings\" without dollar sign and M(Miliion)\n",
    "df['Earnings']=  df['gross'].str.replace(\"$\" , \"\")\n",
    "df['Earnings']  = df['Earnings'].str.replace(\"M\", \"\")\n",
    "\n",
    "#2. Converting earnings to float datatype\n",
    "\n",
    "df['Earnings'] = df['Earnings'].astype(\"float\")\n",
    "\n",
    "#3. Multiplying each by a million since sthey were originally in million\n",
    "df['Earnings']  =  1000000*df['Earnings']\n"
   ]
  },
  {
   "cell_type": "code",
   "execution_count": 12,
   "id": "1aee4510",
   "metadata": {},
   "outputs": [
    {
     "data": {
      "text/plain": [
       "array(['Comedy', 'Drama', 'Romance', 'Family', 'Musical', 'Fantasy',\n",
       "       'Adventure', 'Action', 'Thriller', 'Animation', 'Crime', 'Horror',\n",
       "       'Mystery', 'Music', 'Sci-Fi', 'Biography', 'Short', 'Sport',\n",
       "       'Western', 'Film-Noir', 'History', 'War', 'Documentary', 'News',\n",
       "       'Talk-Show', 'Game-Show'], dtype=object)"
      ]
     },
     "execution_count": 12,
     "metadata": {},
     "output_type": "execute_result"
    }
   ],
   "source": [
    "#Listings all the unique genres\n",
    "\n",
    "#1.Removing whitespaces to not cause any duplication\n",
    "df['genre'] =  df['genre'].str.replace(\" \", \"\")\n",
    "\n",
    "#2.combining in a single array\n",
    "unique_genre = pd.unique(df['genre'].str.split(\",\" ,expand =  True).stack())\n",
    "unique_genre"
   ]
  },
  {
   "cell_type": "code",
   "execution_count": 13,
   "id": "57b4c254",
   "metadata": {
    "scrolled": false
   },
   "outputs": [],
   "source": [
    "#Droppings columns that are not necessary for our analysis \n",
    "df  = df.drop(columns  = ['description' , 'img_src', 'meta_score'])\n"
   ]
  },
  {
   "cell_type": "markdown",
   "id": "c72878c9",
   "metadata": {},
   "source": [
    "# Analysis\n"
   ]
  },
  {
   "cell_type": "markdown",
   "id": "542348aa",
   "metadata": {},
   "source": [
    " ## 🔝  Top 10 movies by imbd ratings"
   ]
  },
  {
   "cell_type": "code",
   "execution_count": 14,
   "id": "9bacac56",
   "metadata": {},
   "outputs": [
    {
     "data": {
      "text/html": [
       "<div>\n",
       "<style scoped>\n",
       "    .dataframe tbody tr th:only-of-type {\n",
       "        vertical-align: middle;\n",
       "    }\n",
       "\n",
       "    .dataframe tbody tr th {\n",
       "        vertical-align: top;\n",
       "    }\n",
       "\n",
       "    .dataframe thead th {\n",
       "        text-align: right;\n",
       "    }\n",
       "</style>\n",
       "<table border=\"1\" class=\"dataframe\">\n",
       "  <thead>\n",
       "    <tr style=\"text-align: right;\">\n",
       "      <th></th>\n",
       "      <th>title</th>\n",
       "      <th>imdb_rating</th>\n",
       "      <th>release_year</th>\n",
       "    </tr>\n",
       "  </thead>\n",
       "  <tbody>\n",
       "    <tr>\n",
       "      <th>777</th>\n",
       "      <td>It's Always Sunny in Philadelphia: A Very Sunn...</td>\n",
       "      <td>9.2</td>\n",
       "      <td>2005</td>\n",
       "    </tr>\n",
       "    <tr>\n",
       "      <th>772</th>\n",
       "      <td>ABC Stage 67: A Christmas Memory</td>\n",
       "      <td>8.9</td>\n",
       "      <td>1966</td>\n",
       "    </tr>\n",
       "    <tr>\n",
       "      <th>6</th>\n",
       "      <td>It's a Wonderful Life</td>\n",
       "      <td>8.6</td>\n",
       "      <td>1946</td>\n",
       "    </tr>\n",
       "    <tr>\n",
       "      <th>732</th>\n",
       "      <td>A Kylie Christmas: Live from the Royal Albert ...</td>\n",
       "      <td>8.5</td>\n",
       "      <td>2015</td>\n",
       "    </tr>\n",
       "    <tr>\n",
       "      <th>217</th>\n",
       "      <td>Anne of Green Gables</td>\n",
       "      <td>8.5</td>\n",
       "      <td>1985</td>\n",
       "    </tr>\n",
       "    <tr>\n",
       "      <th>376</th>\n",
       "      <td>Christmas Eve on Sesame Street</td>\n",
       "      <td>8.4</td>\n",
       "      <td>1978</td>\n",
       "    </tr>\n",
       "    <tr>\n",
       "      <th>699</th>\n",
       "      <td>The Original Christmas Classics</td>\n",
       "      <td>8.4</td>\n",
       "      <td>1965</td>\n",
       "    </tr>\n",
       "    <tr>\n",
       "      <th>64</th>\n",
       "      <td>A Charlie Brown Christmas</td>\n",
       "      <td>8.3</td>\n",
       "      <td>1965</td>\n",
       "    </tr>\n",
       "    <tr>\n",
       "      <th>86</th>\n",
       "      <td>The Apartment</td>\n",
       "      <td>8.3</td>\n",
       "      <td>1960</td>\n",
       "    </tr>\n",
       "    <tr>\n",
       "      <th>39</th>\n",
       "      <td>How the Grinch Stole Christmas!</td>\n",
       "      <td>8.3</td>\n",
       "      <td>1966</td>\n",
       "    </tr>\n",
       "  </tbody>\n",
       "</table>\n",
       "</div>"
      ],
      "text/plain": [
       "                                                 title  imdb_rating  \\\n",
       "777  It's Always Sunny in Philadelphia: A Very Sunn...          9.2   \n",
       "772                   ABC Stage 67: A Christmas Memory          8.9   \n",
       "6                                It's a Wonderful Life          8.6   \n",
       "732  A Kylie Christmas: Live from the Royal Albert ...          8.5   \n",
       "217                               Anne of Green Gables          8.5   \n",
       "376                     Christmas Eve on Sesame Street          8.4   \n",
       "699                    The Original Christmas Classics          8.4   \n",
       "64                           A Charlie Brown Christmas          8.3   \n",
       "86                                       The Apartment          8.3   \n",
       "39                     How the Grinch Stole Christmas!          8.3   \n",
       "\n",
       "     release_year  \n",
       "777          2005  \n",
       "772          1966  \n",
       "6            1946  \n",
       "732          2015  \n",
       "217          1985  \n",
       "376          1978  \n",
       "699          1965  \n",
       "64           1965  \n",
       "86           1960  \n",
       "39           1966  "
      ]
     },
     "execution_count": 14,
     "metadata": {},
     "output_type": "execute_result"
    }
   ],
   "source": [
    "#Listing top 10 movies by their IMDB ratings\n",
    "top_movies  =  df.sort_values(\"imdb_rating\" ,  ascending  =  False)\n",
    "top_movies[['title' , 'imdb_rating' , 'release_year']].head(10)"
   ]
  },
  {
   "cell_type": "markdown",
   "id": "26e0d3ea",
   "metadata": {},
   "source": [
    "## 💲💲 Top grossing movies"
   ]
  },
  {
   "cell_type": "code",
   "execution_count": 15,
   "id": "4602ced6",
   "metadata": {},
   "outputs": [
    {
     "data": {
      "text/html": [
       "<div>\n",
       "<style scoped>\n",
       "    .dataframe tbody tr th:only-of-type {\n",
       "        vertical-align: middle;\n",
       "    }\n",
       "\n",
       "    .dataframe tbody tr th {\n",
       "        vertical-align: top;\n",
       "    }\n",
       "\n",
       "    .dataframe thead th {\n",
       "        text-align: right;\n",
       "    }\n",
       "</style>\n",
       "<table border=\"1\" class=\"dataframe\">\n",
       "  <thead>\n",
       "    <tr style=\"text-align: right;\">\n",
       "      <th></th>\n",
       "      <th>title</th>\n",
       "      <th>gross</th>\n",
       "      <th>imdb_rating</th>\n",
       "      <th>Earnings</th>\n",
       "    </tr>\n",
       "  </thead>\n",
       "  <tbody>\n",
       "    <tr>\n",
       "      <th>0</th>\n",
       "      <td>Iron Man 3</td>\n",
       "      <td>$409.01M</td>\n",
       "      <td>7.1</td>\n",
       "      <td>409010000.0</td>\n",
       "    </tr>\n",
       "    <tr>\n",
       "      <th>1</th>\n",
       "      <td>Home Alone</td>\n",
       "      <td>$285.76M</td>\n",
       "      <td>7.7</td>\n",
       "      <td>285760000.0</td>\n",
       "    </tr>\n",
       "    <tr>\n",
       "      <th>2</th>\n",
       "      <td>The Grinch</td>\n",
       "      <td>$270.62M</td>\n",
       "      <td>6.3</td>\n",
       "      <td>270620000.0</td>\n",
       "    </tr>\n",
       "    <tr>\n",
       "      <th>3</th>\n",
       "      <td>How the Grinch Stole Christmas</td>\n",
       "      <td>$260.04M</td>\n",
       "      <td>6.3</td>\n",
       "      <td>260040000.0</td>\n",
       "    </tr>\n",
       "    <tr>\n",
       "      <th>4</th>\n",
       "      <td>The Polar Express</td>\n",
       "      <td>$183.37M</td>\n",
       "      <td>6.6</td>\n",
       "      <td>183370000.0</td>\n",
       "    </tr>\n",
       "    <tr>\n",
       "      <th>5</th>\n",
       "      <td>Home Alone 2: Lost in New York</td>\n",
       "      <td>$173.59M</td>\n",
       "      <td>6.8</td>\n",
       "      <td>173590000.0</td>\n",
       "    </tr>\n",
       "    <tr>\n",
       "      <th>6</th>\n",
       "      <td>Elf</td>\n",
       "      <td>$173.40M</td>\n",
       "      <td>7.1</td>\n",
       "      <td>173400000.0</td>\n",
       "    </tr>\n",
       "    <tr>\n",
       "      <th>7</th>\n",
       "      <td>The Santa Clause</td>\n",
       "      <td>$144.83M</td>\n",
       "      <td>6.5</td>\n",
       "      <td>144830000.0</td>\n",
       "    </tr>\n",
       "    <tr>\n",
       "      <th>8</th>\n",
       "      <td>Shazam!</td>\n",
       "      <td>$140.37M</td>\n",
       "      <td>7.0</td>\n",
       "      <td>140370000.0</td>\n",
       "    </tr>\n",
       "    <tr>\n",
       "      <th>9</th>\n",
       "      <td>The Santa Clause 2</td>\n",
       "      <td>$139.24M</td>\n",
       "      <td>5.7</td>\n",
       "      <td>139240000.0</td>\n",
       "    </tr>\n",
       "  </tbody>\n",
       "</table>\n",
       "</div>"
      ],
      "text/plain": [
       "                            title     gross  imdb_rating     Earnings\n",
       "0                      Iron Man 3  $409.01M          7.1  409010000.0\n",
       "1                      Home Alone  $285.76M          7.7  285760000.0\n",
       "2                      The Grinch  $270.62M          6.3  270620000.0\n",
       "3  How the Grinch Stole Christmas  $260.04M          6.3  260040000.0\n",
       "4               The Polar Express  $183.37M          6.6  183370000.0\n",
       "5  Home Alone 2: Lost in New York  $173.59M          6.8  173590000.0\n",
       "6                             Elf  $173.40M          7.1  173400000.0\n",
       "7                The Santa Clause  $144.83M          6.5  144830000.0\n",
       "8                         Shazam!  $140.37M          7.0  140370000.0\n",
       "9              The Santa Clause 2  $139.24M          5.7  139240000.0"
      ]
     },
     "execution_count": 15,
     "metadata": {},
     "output_type": "execute_result"
    }
   ],
   "source": [
    "# Listing top 10 movies by earnings \n",
    "top_gross =  df.sort_values(\"Earnings\" ,  ascending   =  False).reset_index()\n",
    "top_gross[['title' , \"gross\" , \"imdb_rating\" , \"Earnings\"]].head(10)"
   ]
  },
  {
   "cell_type": "markdown",
   "id": "391121e7",
   "metadata": {},
   "source": [
    "## 📊 Movies by years"
   ]
  },
  {
   "cell_type": "code",
   "execution_count": 16,
   "id": "c3524135",
   "metadata": {},
   "outputs": [
    {
     "data": {
      "text/html": [
       "<div>\n",
       "<style scoped>\n",
       "    .dataframe tbody tr th:only-of-type {\n",
       "        vertical-align: middle;\n",
       "    }\n",
       "\n",
       "    .dataframe tbody tr th {\n",
       "        vertical-align: top;\n",
       "    }\n",
       "\n",
       "    .dataframe thead th {\n",
       "        text-align: right;\n",
       "    }\n",
       "</style>\n",
       "<table border=\"1\" class=\"dataframe\">\n",
       "  <thead>\n",
       "    <tr style=\"text-align: right;\">\n",
       "      <th></th>\n",
       "      <th>release_year</th>\n",
       "      <th>Number_of_Christmas_Movies</th>\n",
       "    </tr>\n",
       "  </thead>\n",
       "  <tbody>\n",
       "    <tr>\n",
       "      <th>76</th>\n",
       "      <td>2020</td>\n",
       "      <td>92</td>\n",
       "    </tr>\n",
       "    <tr>\n",
       "      <th>75</th>\n",
       "      <td>2019</td>\n",
       "      <td>73</td>\n",
       "    </tr>\n",
       "    <tr>\n",
       "      <th>74</th>\n",
       "      <td>2018</td>\n",
       "      <td>70</td>\n",
       "    </tr>\n",
       "    <tr>\n",
       "      <th>77</th>\n",
       "      <td>2021</td>\n",
       "      <td>65</td>\n",
       "    </tr>\n",
       "    <tr>\n",
       "      <th>73</th>\n",
       "      <td>2017</td>\n",
       "      <td>48</td>\n",
       "    </tr>\n",
       "    <tr>\n",
       "      <th>71</th>\n",
       "      <td>2015</td>\n",
       "      <td>39</td>\n",
       "    </tr>\n",
       "    <tr>\n",
       "      <th>72</th>\n",
       "      <td>2016</td>\n",
       "      <td>39</td>\n",
       "    </tr>\n",
       "    <tr>\n",
       "      <th>78</th>\n",
       "      <td>2022</td>\n",
       "      <td>38</td>\n",
       "    </tr>\n",
       "    <tr>\n",
       "      <th>70</th>\n",
       "      <td>2014</td>\n",
       "      <td>30</td>\n",
       "    </tr>\n",
       "    <tr>\n",
       "      <th>68</th>\n",
       "      <td>2012</td>\n",
       "      <td>29</td>\n",
       "    </tr>\n",
       "  </tbody>\n",
       "</table>\n",
       "</div>"
      ],
      "text/plain": [
       "    release_year  Number_of_Christmas_Movies\n",
       "76          2020                          92\n",
       "75          2019                          73\n",
       "74          2018                          70\n",
       "77          2021                          65\n",
       "73          2017                          48\n",
       "71          2015                          39\n",
       "72          2016                          39\n",
       "78          2022                          38\n",
       "70          2014                          30\n",
       "68          2012                          29"
      ]
     },
     "execution_count": 16,
     "metadata": {},
     "output_type": "execute_result"
    }
   ],
   "source": [
    "#Number of christmas movies produced each year\n",
    "movies_by_year  =  df.groupby('release_year')['title'].count().to_frame(name = \"Number_of_Christmas_Movies\").reset_index()\n",
    "movies_by_year.sort_values('Number_of_Christmas_Movies' , ascending  =  False).head(10)"
   ]
  },
  {
   "cell_type": "markdown",
   "id": "68f50d38",
   "metadata": {},
   "source": [
    "##  😂😥👪 🌹Popular Genres"
   ]
  },
  {
   "cell_type": "code",
   "execution_count": 17,
   "id": "e6653f65",
   "metadata": {},
   "outputs": [
    {
     "data": {
      "text/html": [
       "<div>\n",
       "<style scoped>\n",
       "    .dataframe tbody tr th:only-of-type {\n",
       "        vertical-align: middle;\n",
       "    }\n",
       "\n",
       "    .dataframe tbody tr th {\n",
       "        vertical-align: top;\n",
       "    }\n",
       "\n",
       "    .dataframe thead th {\n",
       "        text-align: right;\n",
       "    }\n",
       "</style>\n",
       "<table border=\"1\" class=\"dataframe\">\n",
       "  <thead>\n",
       "    <tr style=\"text-align: right;\">\n",
       "      <th></th>\n",
       "      <th>index</th>\n",
       "      <th>Occurence</th>\n",
       "    </tr>\n",
       "  </thead>\n",
       "  <tbody>\n",
       "    <tr>\n",
       "      <th>0</th>\n",
       "      <td>Comedy</td>\n",
       "      <td>452</td>\n",
       "    </tr>\n",
       "    <tr>\n",
       "      <th>1</th>\n",
       "      <td>Drama</td>\n",
       "      <td>414</td>\n",
       "    </tr>\n",
       "    <tr>\n",
       "      <th>2</th>\n",
       "      <td>Romance</td>\n",
       "      <td>385</td>\n",
       "    </tr>\n",
       "    <tr>\n",
       "      <th>3</th>\n",
       "      <td>Family</td>\n",
       "      <td>282</td>\n",
       "    </tr>\n",
       "    <tr>\n",
       "      <th>4</th>\n",
       "      <td>Fantasy</td>\n",
       "      <td>91</td>\n",
       "    </tr>\n",
       "    <tr>\n",
       "      <th>5</th>\n",
       "      <td>Adventure</td>\n",
       "      <td>47</td>\n",
       "    </tr>\n",
       "    <tr>\n",
       "      <th>6</th>\n",
       "      <td>Animation</td>\n",
       "      <td>46</td>\n",
       "    </tr>\n",
       "    <tr>\n",
       "      <th>7</th>\n",
       "      <td>Short</td>\n",
       "      <td>27</td>\n",
       "    </tr>\n",
       "    <tr>\n",
       "      <th>8</th>\n",
       "      <td>Music</td>\n",
       "      <td>27</td>\n",
       "    </tr>\n",
       "    <tr>\n",
       "      <th>9</th>\n",
       "      <td>Musical</td>\n",
       "      <td>24</td>\n",
       "    </tr>\n",
       "    <tr>\n",
       "      <th>10</th>\n",
       "      <td>Crime</td>\n",
       "      <td>23</td>\n",
       "    </tr>\n",
       "    <tr>\n",
       "      <th>11</th>\n",
       "      <td>Mystery</td>\n",
       "      <td>17</td>\n",
       "    </tr>\n",
       "    <tr>\n",
       "      <th>12</th>\n",
       "      <td>Action</td>\n",
       "      <td>9</td>\n",
       "    </tr>\n",
       "    <tr>\n",
       "      <th>13</th>\n",
       "      <td>Horror</td>\n",
       "      <td>8</td>\n",
       "    </tr>\n",
       "    <tr>\n",
       "      <th>14</th>\n",
       "      <td>Sci-Fi</td>\n",
       "      <td>6</td>\n",
       "    </tr>\n",
       "    <tr>\n",
       "      <th>15</th>\n",
       "      <td>Talk-Show</td>\n",
       "      <td>6</td>\n",
       "    </tr>\n",
       "    <tr>\n",
       "      <th>16</th>\n",
       "      <td>Film-Noir</td>\n",
       "      <td>6</td>\n",
       "    </tr>\n",
       "    <tr>\n",
       "      <th>17</th>\n",
       "      <td>Thriller</td>\n",
       "      <td>4</td>\n",
       "    </tr>\n",
       "    <tr>\n",
       "      <th>18</th>\n",
       "      <td>Biography</td>\n",
       "      <td>4</td>\n",
       "    </tr>\n",
       "    <tr>\n",
       "      <th>19</th>\n",
       "      <td>News</td>\n",
       "      <td>4</td>\n",
       "    </tr>\n",
       "    <tr>\n",
       "      <th>20</th>\n",
       "      <td>Documentary</td>\n",
       "      <td>3</td>\n",
       "    </tr>\n",
       "    <tr>\n",
       "      <th>21</th>\n",
       "      <td>Sport</td>\n",
       "      <td>3</td>\n",
       "    </tr>\n",
       "    <tr>\n",
       "      <th>22</th>\n",
       "      <td>Western</td>\n",
       "      <td>3</td>\n",
       "    </tr>\n",
       "    <tr>\n",
       "      <th>23</th>\n",
       "      <td>War</td>\n",
       "      <td>2</td>\n",
       "    </tr>\n",
       "    <tr>\n",
       "      <th>24</th>\n",
       "      <td>History</td>\n",
       "      <td>2</td>\n",
       "    </tr>\n",
       "    <tr>\n",
       "      <th>25</th>\n",
       "      <td>Game-Show</td>\n",
       "      <td>1</td>\n",
       "    </tr>\n",
       "  </tbody>\n",
       "</table>\n",
       "</div>"
      ],
      "text/plain": [
       "          index  Occurence\n",
       "0        Comedy        452\n",
       "1         Drama        414\n",
       "2       Romance        385\n",
       "3        Family        282\n",
       "4       Fantasy         91\n",
       "5     Adventure         47\n",
       "6     Animation         46\n",
       "7         Short         27\n",
       "8         Music         27\n",
       "9       Musical         24\n",
       "10        Crime         23\n",
       "11      Mystery         17\n",
       "12       Action          9\n",
       "13       Horror          8\n",
       "14       Sci-Fi          6\n",
       "15    Talk-Show          6\n",
       "16    Film-Noir          6\n",
       "17     Thriller          4\n",
       "18    Biography          4\n",
       "19         News          4\n",
       "20  Documentary          3\n",
       "21        Sport          3\n",
       "22      Western          3\n",
       "23          War          2\n",
       "24      History          2\n",
       "25    Game-Show          1"
      ]
     },
     "execution_count": 17,
     "metadata": {},
     "output_type": "execute_result"
    }
   ],
   "source": [
    "#Measuring the  popularity of a genre by counting its occurence \n",
    "df['genre'] =  df['genre'].str.replace(\" \", \"\")\n",
    "unique_genre = df['genre'].str.split(\",\" ,expand =  True).stack()\n",
    "unique_genre.value_counts().to_frame(name = \"Occurence\").reset_index()\n"
   ]
  },
  {
   "cell_type": "markdown",
   "id": "7cff3bb7",
   "metadata": {},
   "source": [
    "## 📊High imdb_rating === > High Earning  🤑 ?"
   ]
  },
  {
   "cell_type": "code",
   "execution_count": 18,
   "id": "6cabf3ce",
   "metadata": {},
   "outputs": [
    {
     "data": {
      "text/plain": [
       "Text(0.5, 0, 'Earnings')"
      ]
     },
     "execution_count": 18,
     "metadata": {},
     "output_type": "execute_result"
    },
    {
     "data": {
      "image/png": "[encoded data removed]",
      "text/plain": [
       "<Figure size 720x576 with 1 Axes>"
      ]
     },
     "metadata": {
      "needs_background": "light"
     },
     "output_type": "display_data"
    }
   ],
   "source": [
    "plt.figure(figsize = (10,8))\n",
    "sns.regplot(data  =  df ,  y = \"imdb_rating\" , x =  \"Earnings\")\n",
    "plt.title(\"Rating VS Earning\" , fontsize = 15)\n",
    "plt.ylabel(\"imdb_rating\" , fontsize = 12)\n",
    "plt.xlabel(\"Earnings\" ,  fontsize =  12)"
   ]
  },
  {
   "cell_type": "markdown",
   "id": "6e5bd17f",
   "metadata": {},
   "source": [
    "## ⏳ Runtime over years"
   ]
  },
  {
   "cell_type": "code",
   "execution_count": 19,
   "id": "4a3b5317",
   "metadata": {},
   "outputs": [
    {
     "data": {
      "text/plain": [
       "Text(0.5, 1.0, 'Rutime over Years')"
      ]
     },
     "execution_count": 19,
     "metadata": {},
     "output_type": "execute_result"
    },
    {
     "data": {
      "image/png": "[encoded data removed]",
      "text/plain": [
       "<Figure size 720x576 with 1 Axes>"
      ]
     },
     "metadata": {
      "needs_background": "light"
     },
     "output_type": "display_data"
    }
   ],
   "source": [
    "plt.figure(figsize = (10,8))\n",
    "sns.lineplot(data  = df , x = \"release_year\" ,y = \"runtime\")\n",
    "plt.title(\"Rutime over Years\" , fontsize = 15)\n"
   ]
  },
  {
   "cell_type": "markdown",
   "id": "ff66ef6d",
   "metadata": {},
   "source": [
    "##  Most common ratings "
   ]
  },
  {
   "cell_type": "code",
   "execution_count": 20,
   "id": "bbda2126",
   "metadata": {},
   "outputs": [
    {
     "data": {
      "text/plain": [
       "<AxesSubplot:xlabel='rating', ylabel='count'>"
      ]
     },
     "execution_count": 20,
     "metadata": {},
     "output_type": "execute_result"
    },
    {
     "data": {
      "image/png": "[encoded data removed]",
      "text/plain": [
       "<Figure size 1080x576 with 1 Axes>"
      ]
     },
     "metadata": {
      "needs_background": "light"
     },
     "output_type": "display_data"
    }
   ],
   "source": [
    "plt.figure(figsize = (15,8))\n",
    "sns.countplot(data = df , x = 'rating')"
   ]
  },
  {
   "cell_type": "code",
   "execution_count": 21,
   "id": "24a76c5c",
   "metadata": {},
   "outputs": [
    {
     "data": {
      "text/plain": [
       "Movie         775\n",
       "TV Episode     13\n",
       "Name: type, dtype: int64"
      ]
     },
     "execution_count": 21,
     "metadata": {},
     "output_type": "execute_result"
    }
   ],
   "source": [
    "#Movie or TV show \n",
    "df.type.value_counts()"
   ]
  }
 ],
 "metadata": {
  "kernelspec": {
   "display_name": "Python 3 (ipykernel)",
   "language": "python",
   "name": "python3"
  },
  "language_info": {
   "codemirror_mode": {
    "name": "ipython",
    "version": 3
   },
   "file_extension": ".py",
   "mimetype": "text/x-python",
   "name": "python",
   "nbconvert_exporter": "python",
   "pygments_lexer": "ipython3",
   "version": "3.9.7"
  }
 },
 "nbformat": 4,
 "nbformat_minor": 5
}
